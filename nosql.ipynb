{
 "cells": [
  {
   "cell_type": "code",
   "execution_count": 1,
   "metadata": {},
   "outputs": [
    {
     "ename": "ModuleNotFoundError",
     "evalue": "No module named 'unqlite'",
     "output_type": "error",
     "traceback": [
      "\u001b[0;31m---------------------------------------------------------------------------\u001b[0m",
      "\u001b[0;31mModuleNotFoundError\u001b[0m                       Traceback (most recent call last)",
      "\u001b[0;32m<ipython-input-1-8f3abfa9163c>\u001b[0m in \u001b[0;36m<module>\u001b[0;34m\u001b[0m\n\u001b[0;32m----> 1\u001b[0;31m \u001b[0;32mfrom\u001b[0m \u001b[0munqlite\u001b[0m \u001b[0;32mimport\u001b[0m \u001b[0mUnQLite\u001b[0m\u001b[0;34m\u001b[0m\u001b[0;34m\u001b[0m\u001b[0m\n\u001b[0m\u001b[1;32m      2\u001b[0m \u001b[0;32mimport\u001b[0m \u001b[0mmath\u001b[0m\u001b[0;34m\u001b[0m\u001b[0;34m\u001b[0m\u001b[0m\n\u001b[1;32m      3\u001b[0m \u001b[0;34m\u001b[0m\u001b[0m\n\u001b[1;32m      4\u001b[0m \u001b[0mdb\u001b[0m \u001b[0;34m=\u001b[0m \u001b[0mUnQLite\u001b[0m\u001b[0;34m(\u001b[0m\u001b[0;34m'sample.db'\u001b[0m\u001b[0;34m)\u001b[0m\u001b[0;34m\u001b[0m\u001b[0;34m\u001b[0m\u001b[0m\n\u001b[1;32m      5\u001b[0m \u001b[0mdata\u001b[0m \u001b[0;34m=\u001b[0m \u001b[0mdb\u001b[0m\u001b[0;34m.\u001b[0m\u001b[0mcollection\u001b[0m\u001b[0;34m(\u001b[0m\u001b[0;34m'data'\u001b[0m\u001b[0;34m)\u001b[0m\u001b[0;34m\u001b[0m\u001b[0;34m\u001b[0m\u001b[0m\n",
      "\u001b[0;31mModuleNotFoundError\u001b[0m: No module named 'unqlite'"
     ]
    }
   ],
   "source": [
    "from unqlite import UnQLite\n",
    "import math\n",
    "\n",
    "db = UnQLite('sample.db')\n",
    "data = db.collection('data')\n",
    "data.all()\n",
    "\n"
   ]
  },
  {
   "cell_type": "code",
   "execution_count": 2,
   "metadata": {},
   "outputs": [],
   "source": [
    "\n",
    "def DistanceFunction(lat2, lon2, lat1, lon1):\n",
    "    R=3959\n",
    "    lat1_rad=math.radians(lat1) # φ1 \n",
    "    lat2_rad=math.radians(lat2) #φ2\n",
    "    delta_lat=math.radians(lat2-lat1) #Δφ \n",
    "    delta_lon=math.radians(lon2-lon1) #Δλ\n",
    "    \n",
    "    a=math.sin(delta_lat/2) * math.sin(delta_lat/2) \\\n",
    "    +math.cos(lat1_rad)*math.cos(lat2_rad) * math.sin(delta_lon)*math.sin(delta_lon)\n",
    "    \n",
    "    c=2*math.atan2(math.sqrt(a),math.sqrt(1-a))\n",
    "    \n",
    "    d=R*c\n",
    "    \n",
    "    return d\n",
    "    \n",
    "    \n",
    "    \n",
    "\n",
    "\n"
   ]
  },
  {
   "cell_type": "code",
   "execution_count": null,
   "metadata": {},
   "outputs": [],
   "source": [
    "# Graded Cell, PartID: o1flK\n",
    "def FindBusinessBasedOnCity(cityToSearch,saveLocation1,collection):\n",
    "    fout=open(saveLocation1,'w')\n",
    "    for item in collection.all():\n",
    "        if item['city'].decode('utf-8').lower() ==cityToSearch.lower():\n",
    "            fout.write(item['name'].decode('utf-8')+'$' \\\n",
    "                  +item['full_address'].decode('utf-8') +'$' \\\n",
    "                  + item['city'].decode('utf-8')+'$' + item['state'].decode('utf-8')+'\\n')\n",
    "            \n",
    "    fout.close()\n",
    "            \n",
    "\n",
    "    \n",
    "        \n",
    "        \n",
    "def FindBusinessBasedOnLocation(categoriesToSearch,myLocation,maxDistance, saveLocation2, collection):\n",
    "    lat1=myLocation[0]\n",
    "    lon1= myLocation[1]\n",
    "    search_cat=set([i.lower() for i in categoriesToSearch])\n",
    "    fout=open(saveLocation2,'w')\n",
    "\n",
    "    \n",
    "\n",
    "    for item in collection.all():\n",
    "        lat2=item['latitude']\n",
    "        lon2=item['longitude']\n",
    "        cat_lst=set([i.decode('utf-8').lower() for i in item['categories']])\n",
    "        if len(search_cat.intersection(cat_lst)) > 0 and DistanceFunction(lat2, lon2, lat1, lon1)<=maxDistance: \n",
    "            fout.write(item['name'].decode('utf-8')+'\\n')\n",
    "    fout.close()"
   ]
  }
 ],
 "metadata": {
  "kernelspec": {
   "display_name": "Python 3",
   "language": "python",
   "name": "python3"
  },
  "language_info": {
   "codemirror_mode": {
    "name": "ipython",
    "version": 3
   },
   "file_extension": ".py",
   "mimetype": "text/x-python",
   "name": "python",
   "nbconvert_exporter": "python",
   "pygments_lexer": "ipython3",
   "version": "3.7.5"
  }
 },
 "nbformat": 4,
 "nbformat_minor": 2
}
